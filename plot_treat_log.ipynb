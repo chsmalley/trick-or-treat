{
 "cells": [
  {
   "cell_type": "code",
   "execution_count": null,
   "metadata": {},
   "outputs": [
    {
     "ename": "",
     "evalue": "",
     "output_type": "error",
     "traceback": [
      "\u001b[1;31mRunning cells with '/bin/python3' requires the ipykernel package.\n",
      "\u001b[1;31mRun the following command to install 'ipykernel' into the Python environment. \n",
      "\u001b[1;31mCommand: '/bin/python3 -m pip install ipykernel -U --user --force-reinstall'"
     ]
    }
   ],
   "source": [
    "import pandas as pd\n",
    "\n",
    "logfile = \"halloween.log\"\n",
    "df = pd.read_csv(\n",
    "    logfile,\n",
    "    names=[\"datetime\", \"loglevel\", \"type\"]\n",
    ")\n",
    "print(df)\n",
    "# df[\"seconds\"] = df.apply(get_sec, axis=1)\n",
    "# df[\"hour\"] = df.apply(get_hour, axis=1)\n",
    "df[\"datetime\"] = pd.to_datetime(df[\"datetime\"], format=\"%Y:%m:%d:%H:%M:%S\")\n",
    "df.set_index(\"datetime\", drop=False, inplace=True)\n",
    "tricks = df.loc[df[\"type\"] == \"trick\"]\n",
    "tricks = tricks[\"type\"]\n",
    "tricks.rename({\"type\": \"tricks\"}, axis=1, inplace=True)\n",
    "treats = df.loc[df[\"type\"] == \"treat\"]\n",
    "treats = treats[\"type\"]\n",
    "treats.rename({\"type\": \"treats\"}, axis=1, inplace=True)\n",
    "ax = treats.groupby(pd.Grouper(freq=\"10Min\")).count().plot(kind=\"bar\")\n",
    "tricks.groupby(pd.Grouper(freq=\"10Min\")).count().plot(kind=\"bar\", ax=ax)\n",
    "# ax = df.hist(column=\"type\")\n",
    "# ax = df.plot.hist(alpha=0.5)\n",
    "fig = ax.get_figure()\n",
    "fig.savefig(\"tricks.png\")\n",
    "# print(tricks)\n",
    "# tricks.plot.hist(column=[\"seconds\"], by=\"type\")\n"
   ]
  }
 ],
 "metadata": {
  "kernelspec": {
   "display_name": "Python 3.10.6 64-bit",
   "language": "python",
   "name": "python3"
  },
  "language_info": {
   "name": "python",
   "version": "3.0.0"
  },
  "orig_nbformat": 4,
  "vscode": {
   "interpreter": {
    "hash": "916dbcbb3f70747c44a77c7bcd40155683ae19c65e1c03b4aa3499c5328201f1"
   }
  }
 },
 "nbformat": 4,
 "nbformat_minor": 2
}
